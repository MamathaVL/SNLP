{
 "cells": [
  {
   "cell_type": "code",
   "execution_count": 1,
   "metadata": {},
   "outputs": [],
   "source": [
    "#Extract Text from Corpus - Brown\n",
    "import nltk\n",
    "from nltk.corpus import brown"
   ]
  },
  {
   "cell_type": "code",
   "execution_count": 2,
   "metadata": {},
   "outputs": [],
   "source": [
    "#Access Data with category 'news'\n",
    "text=brown.words(categories='news')"
   ]
  },
  {
   "cell_type": "code",
   "execution_count": 3,
   "metadata": {},
   "outputs": [
    {
     "data": {
      "text/plain": [
       "100554"
      ]
     },
     "execution_count": 3,
     "metadata": {},
     "output_type": "execute_result"
    }
   ],
   "source": [
    "#Length of the Corpus - Brown with category 'news' \n",
    "len(text)"
   ]
  },
  {
   "cell_type": "code",
   "execution_count": 4,
   "metadata": {},
   "outputs": [
    {
     "data": {
      "text/plain": [
       "['The', 'Fulton', 'County', 'Grand', 'Jury', 'said', ...]"
      ]
     },
     "execution_count": 4,
     "metadata": {},
     "output_type": "execute_result"
    }
   ],
   "source": [
    "#Print the content of Corpus - Brown with category 'news'\n",
    "text"
   ]
  },
  {
   "cell_type": "code",
   "execution_count": 5,
   "metadata": {},
   "outputs": [],
   "source": [
    "#Converting List to the string\n",
    "texts = ' '.join([str(item) for item in text ])"
   ]
  },
  {
   "cell_type": "code",
   "execution_count": 6,
   "metadata": {},
   "outputs": [],
   "source": [
    "#Frequency Distribution of words in a text\n",
    "import nltk\n",
    "freqdist = nltk.FreqDist(texts.split())"
   ]
  },
  {
   "cell_type": "code",
   "execution_count": 7,
   "metadata": {},
   "outputs": [
    {
     "data": {
      "text/plain": [
       "FreqDist({'the': 5580, ',': 5188, '.': 4030, 'of': 2849, 'and': 2146, 'to': 2116, 'a': 1993, 'in': 1893, 'for': 943, 'The': 806, ...})"
      ]
     },
     "execution_count": 7,
     "metadata": {},
     "output_type": "execute_result"
    }
   ],
   "source": [
    "#Print the Frequency Distribution of words \n",
    "freqdist"
   ]
  },
  {
   "cell_type": "code",
   "execution_count": 8,
   "metadata": {},
   "outputs": [],
   "source": [
    "#Conditional Frequency Distribution of words in a text\n",
    "from nltk.probability import ConditionalFreqDist\n",
    "\n",
    "cfd = ConditionalFreqDist((len(word), word) for word in texts.split())"
   ]
  },
  {
   "cell_type": "code",
   "execution_count": 9,
   "metadata": {},
   "outputs": [
    {
     "data": {
      "text/plain": [
       "FreqDist({'that': 802, 'with': 545, 'said': 402, 'will': 389, 'from': 344, 'have': 265, 'Mrs.': 253, 'were': 252, 'this': 250, 'been': 212, ...})"
      ]
     },
     "execution_count": 9,
     "metadata": {},
     "output_type": "execute_result"
    }
   ],
   "source": [
    "#Conditional Frequency Distribution of Words with length 4\n",
    "cfd[4]"
   ]
  },
  {
   "cell_type": "code",
   "execution_count": 10,
   "metadata": {},
   "outputs": [
    {
     "data": {
      "text/plain": [
       "FreqDist({'which': 244, 'would': 244, 'their': 219, 'other': 149, 'first': 143, 'about': 136, 'there': 131, 'after': 127, 'years': 102, 'three': 97, ...})"
      ]
     },
     "execution_count": 10,
     "metadata": {},
     "output_type": "execute_result"
    }
   ],
   "source": [
    "#Conditional Frequency Distribution of Words with length 5\n",
    "cfd[5]"
   ]
  },
  {
   "cell_type": "code",
   "execution_count": 11,
   "metadata": {},
   "outputs": [
    {
     "data": {
      "text/plain": [
       "FreqDist({'before': 86, 'school': 65, 'should': 59, 'United': 58, 'during': 55, 'Monday': 54, 'people': 52, 'public': 51, 'Sunday': 51, 'Dallas': 49, ...})"
      ]
     },
     "execution_count": 11,
     "metadata": {},
     "output_type": "execute_result"
    }
   ],
   "source": [
    "#Conditional Frequency Distribution of Words with length 6\n",
    "cfd[6]"
   ]
  },
  {
   "cell_type": "code",
   "execution_count": 12,
   "metadata": {},
   "outputs": [],
   "source": [
    "#Access Data of the Corpus - Brown with category 'news'- 100 words\n",
    "text=brown.words(categories='news')[:100]"
   ]
  },
  {
   "cell_type": "code",
   "execution_count": 13,
   "metadata": {},
   "outputs": [],
   "source": [
    "#Tokenization\n",
    "texts = ' '.join([str(item) for item in text ])\n",
    "for text in texts:\n",
    "    sentences = nltk.sent_tokenize(texts)\n",
    "    for sentence in sentences:\n",
    "        words = nltk.word_tokenize(sentence)"
   ]
  },
  {
   "cell_type": "code",
   "execution_count": 14,
   "metadata": {},
   "outputs": [
    {
     "data": {
      "text/plain": [
       "[('The', 'DT'),\n",
       " ('September-October', 'NNP'),\n",
       " ('term', 'NN'),\n",
       " ('jury', 'NN'),\n",
       " ('had', 'VBD'),\n",
       " ('been', 'VBN'),\n",
       " ('charged', 'VBN'),\n",
       " ('by', 'IN'),\n",
       " ('Fulton', 'NNP'),\n",
       " ('Superior', 'NNP'),\n",
       " ('Court', 'NNP'),\n",
       " ('Judge', 'NNP'),\n",
       " ('Durwood', 'NNP'),\n",
       " ('Pye', 'NNP'),\n",
       " ('to', 'TO'),\n",
       " ('investigate', 'VB'),\n",
       " ('reports', 'NNS'),\n",
       " ('of', 'IN'),\n",
       " ('possible', 'JJ'),\n",
       " ('``', '``'),\n",
       " ('irregularities', 'NNS'),\n",
       " ('``', '``'),\n",
       " ('in', 'IN'),\n",
       " ('the', 'DT'),\n",
       " ('hard-fought', 'JJ'),\n",
       " ('primary', 'NN'),\n",
       " ('which', 'WDT'),\n",
       " ('was', 'VBD'),\n",
       " ('won', 'VBN'),\n",
       " ('by', 'IN'),\n",
       " ('Mayor-nominate', 'NNP'),\n",
       " ('Ivan', 'NNP')]"
      ]
     },
     "execution_count": 14,
     "metadata": {},
     "output_type": "execute_result"
    }
   ],
   "source": [
    "#POS_Tagging\n",
    "nltk.pos_tag(words)"
   ]
  },
  {
   "cell_type": "code",
   "execution_count": 15,
   "metadata": {},
   "outputs": [
    {
     "name": "stdout",
     "output_type": "stream",
     "text": [
      "Actual: The     Stem: the\n",
      "Actual: September-October     Stem: september-octob\n",
      "Actual: term     Stem: term\n",
      "Actual: jury     Stem: juri\n",
      "Actual: had     Stem: had\n",
      "Actual: been     Stem: been\n",
      "Actual: charged     Stem: charg\n",
      "Actual: by     Stem: by\n",
      "Actual: Fulton     Stem: fulton\n",
      "Actual: Superior     Stem: superior\n",
      "Actual: Court     Stem: court\n",
      "Actual: Judge     Stem: judg\n",
      "Actual: Durwood     Stem: durwood\n",
      "Actual: Pye     Stem: pye\n",
      "Actual: to     Stem: to\n",
      "Actual: investigate     Stem: investig\n",
      "Actual: reports     Stem: report\n",
      "Actual: of     Stem: of\n",
      "Actual: possible     Stem: possibl\n",
      "Actual: ``     Stem: ``\n",
      "Actual: irregularities     Stem: irregular\n",
      "Actual: ``     Stem: ``\n",
      "Actual: in     Stem: in\n",
      "Actual: the     Stem: the\n",
      "Actual: hard-fought     Stem: hard-fought\n",
      "Actual: primary     Stem: primari\n",
      "Actual: which     Stem: which\n",
      "Actual: was     Stem: wa\n",
      "Actual: won     Stem: won\n",
      "Actual: by     Stem: by\n",
      "Actual: Mayor-nominate     Stem: mayor-nomin\n",
      "Actual: Ivan     Stem: ivan\n"
     ]
    }
   ],
   "source": [
    "#Determine the stems in those words using PorterStemmer\n",
    "import nltk\n",
    "from nltk.stem import PorterStemmer\n",
    "porter_stemmer = PorterStemmer()\n",
    "\n",
    "for w in words:\n",
    "       print(\"Actual: %s     Stem: %s\"  %(w,porter_stemmer.stem(w)))"
   ]
  },
  {
   "cell_type": "code",
   "execution_count": 16,
   "metadata": {},
   "outputs": [
    {
     "name": "stdout",
     "output_type": "stream",
     "text": [
      "Actual: The       Stem: the\n",
      "Actual: September-October       Stem: september-octob\n",
      "Actual: term       Stem: term\n",
      "Actual: jury       Stem: jury\n",
      "Actual: had       Stem: had\n",
      "Actual: been       Stem: been\n",
      "Actual: charged       Stem: charg\n",
      "Actual: by       Stem: by\n",
      "Actual: Fulton       Stem: fulton\n",
      "Actual: Superior       Stem: supery\n",
      "Actual: Court       Stem: court\n",
      "Actual: Judge       Stem: judg\n",
      "Actual: Durwood       Stem: durwood\n",
      "Actual: Pye       Stem: pye\n",
      "Actual: to       Stem: to\n",
      "Actual: investigate       Stem: investig\n",
      "Actual: reports       Stem: report\n",
      "Actual: of       Stem: of\n",
      "Actual: possible       Stem: poss\n",
      "Actual: ``       Stem: ``\n",
      "Actual: irregularities       Stem: irregul\n",
      "Actual: ``       Stem: ``\n",
      "Actual: in       Stem: in\n",
      "Actual: the       Stem: the\n",
      "Actual: hard-fought       Stem: hard-fought\n",
      "Actual: primary       Stem: prim\n",
      "Actual: which       Stem: which\n",
      "Actual: was       Stem: was\n",
      "Actual: won       Stem: won\n",
      "Actual: by       Stem: by\n",
      "Actual: Mayor-nominate       Stem: mayor-nominate\n",
      "Actual: Ivan       Stem: iv\n"
     ]
    }
   ],
   "source": [
    "#Determine the stems in those words using LancasterStemmer\n",
    "from nltk.stem import LancasterStemmer\n",
    "stemmerLan = LancasterStemmer()\n",
    "\n",
    "for w in words:\n",
    "       print(\"Actual: %s       Stem: %s\"  %(w,stemmerLan.stem(w)))"
   ]
  },
  {
   "cell_type": "code",
   "execution_count": 17,
   "metadata": {},
   "outputs": [
    {
     "name": "stdout",
     "output_type": "stream",
     "text": [
      "Actual: The      Stem: the\n",
      "Actual: September-October      Stem: september-octob\n",
      "Actual: term      Stem: term\n",
      "Actual: jury      Stem: juri\n",
      "Actual: had      Stem: had\n",
      "Actual: been      Stem: been\n",
      "Actual: charged      Stem: charg\n",
      "Actual: by      Stem: by\n",
      "Actual: Fulton      Stem: fulton\n",
      "Actual: Superior      Stem: superior\n",
      "Actual: Court      Stem: court\n",
      "Actual: Judge      Stem: judg\n",
      "Actual: Durwood      Stem: durwood\n",
      "Actual: Pye      Stem: pye\n",
      "Actual: to      Stem: to\n",
      "Actual: investigate      Stem: investig\n",
      "Actual: reports      Stem: report\n",
      "Actual: of      Stem: of\n",
      "Actual: possible      Stem: possibl\n",
      "Actual: ``      Stem: ``\n",
      "Actual: irregularities      Stem: irregular\n",
      "Actual: ``      Stem: ``\n",
      "Actual: in      Stem: in\n",
      "Actual: the      Stem: the\n",
      "Actual: hard-fought      Stem: hard-fought\n",
      "Actual: primary      Stem: primari\n",
      "Actual: which      Stem: which\n",
      "Actual: was      Stem: was\n",
      "Actual: won      Stem: won\n",
      "Actual: by      Stem: by\n",
      "Actual: Mayor-nominate      Stem: mayor-nomin\n",
      "Actual: Ivan      Stem: ivan\n"
     ]
    }
   ],
   "source": [
    "#Determine the stems in those words using SnowballStemmer\n",
    "from nltk.stem import SnowballStemmer\n",
    "stemmer= SnowballStemmer('english')\n",
    "\n",
    "for w in words:\n",
    "       print(\"Actual: %s      Stem: %s\"  %(w,stemmer.stem(w)))"
   ]
  },
  {
   "cell_type": "code",
   "execution_count": null,
   "metadata": {},
   "outputs": [],
   "source": []
  },
  {
   "cell_type": "code",
   "execution_count": null,
   "metadata": {},
   "outputs": [],
   "source": []
  }
 ],
 "metadata": {
  "kernelspec": {
   "display_name": "Python 3",
   "language": "python",
   "name": "python3"
  },
  "language_info": {
   "codemirror_mode": {
    "name": "ipython",
    "version": 3
   },
   "file_extension": ".py",
   "mimetype": "text/x-python",
   "name": "python",
   "nbconvert_exporter": "python",
   "pygments_lexer": "ipython3",
   "version": "3.7.3"
  }
 },
 "nbformat": 4,
 "nbformat_minor": 2
}
